{
 "cells": [
  {
   "cell_type": "code",
   "execution_count": 1,
   "metadata": {},
   "outputs": [],
   "source": [
    "import moon_phase\n",
    "from datetime import datetime, timedelta"
   ]
  },
  {
   "cell_type": "code",
   "execution_count": 2,
   "metadata": {},
   "outputs": [],
   "source": [
    "# Get today's date\n",
    "today = datetime.today()\n",
    "dates = []\n",
    "\n",
    "# Iterate over the next 14 days\n",
    "for i in range(30):\n",
    "    d = today + timedelta(days=i)\n",
    "    dates.append(d)"
   ]
  },
  {
   "cell_type": "code",
   "execution_count": 4,
   "metadata": {},
   "outputs": [
    {
     "name": "stdout",
     "output_type": "stream",
     "text": [
      "2024-11-13 Venus in Capricorn\n",
      "2024-11-14 Venus in Capricorn\n",
      "2024-11-15 Venus in Capricorn\n",
      "2024-11-16 Venus in Capricorn\n",
      "2024-11-17 Venus in Capricorn\n",
      "2024-11-18 Venus in Capricorn\n",
      "2024-11-19 Venus in Capricorn\n",
      "2024-11-20 Venus in Capricorn\n",
      "2024-11-21 Venus in Capricorn\n",
      "2024-11-22 Venus in Capricorn\n",
      "2024-11-23 Venus in Capricorn\n",
      "2024-11-24 Venus in Capricorn\n",
      "2024-11-25 Venus in Capricorn\n",
      "2024-11-26 Venus in Capricorn\n",
      "2024-11-27 Venus in Capricorn\n",
      "2024-11-28 Venus in Capricorn\n",
      "2024-11-29 Venus in Capricorn\n",
      "2024-11-30 Venus in Capricorn\n",
      "2024-12-01 Venus in Capricorn\n",
      "2024-12-02 Venus in Capricorn\n",
      "2024-12-03 Venus in Capricorn\n",
      "2024-12-04 Venus in Aquarius\n",
      "2024-12-05 Venus in Aquarius\n",
      "2024-12-06 Venus in Aquarius\n",
      "2024-12-07 Venus in Aquarius\n",
      "2024-12-08 Venus in Aquarius\n",
      "2024-12-09 Venus in Aquarius\n",
      "2024-12-10 Venus in Aquarius\n",
      "2024-12-11 Venus in Aquarius\n",
      "2024-12-12 Venus in Aquarius\n"
     ]
    }
   ],
   "source": [
    "for d in dates:\n",
    "    print(f\"{d:%Y-%m-%d} Venus in {moon_phase.get_sign('Venus', d)}\")"
   ]
  },
  {
   "cell_type": "code",
   "execution_count": 5,
   "metadata": {},
   "outputs": [
    {
     "data": {
      "text/plain": [
       "(datetime.date(2024, 12, 5), 'Aquarius')"
      ]
     },
     "execution_count": 5,
     "metadata": {},
     "output_type": "execute_result"
    }
   ],
   "source": [
    "moon_phase.next_sign(\"Venus\")"
   ]
  },
  {
   "cell_type": "code",
   "execution_count": null,
   "metadata": {},
   "outputs": [],
   "source": []
  }
 ],
 "metadata": {
  "kernelspec": {
   "display_name": "moon-phase",
   "language": "python",
   "name": "python3"
  },
  "language_info": {
   "codemirror_mode": {
    "name": "ipython",
    "version": 3
   },
   "file_extension": ".py",
   "mimetype": "text/x-python",
   "name": "python",
   "nbconvert_exporter": "python",
   "pygments_lexer": "ipython3",
   "version": "3.11.10"
  }
 },
 "nbformat": 4,
 "nbformat_minor": 2
}
