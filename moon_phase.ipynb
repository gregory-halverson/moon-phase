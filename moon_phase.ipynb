{
 "cells": [
  {
   "cell_type": "code",
   "execution_count": 1,
   "metadata": {},
   "outputs": [],
   "source": [
    "from moon_phase import *"
   ]
  },
  {
   "cell_type": "code",
   "execution_count": 2,
   "metadata": {},
   "outputs": [
    {
     "data": {
      "text/html": [
       "<div>\n",
       "<style scoped>\n",
       "    .dataframe tbody tr th:only-of-type {\n",
       "        vertical-align: middle;\n",
       "    }\n",
       "\n",
       "    .dataframe tbody tr th {\n",
       "        vertical-align: top;\n",
       "    }\n",
       "\n",
       "    .dataframe thead th {\n",
       "        text-align: right;\n",
       "    }\n",
       "</style>\n",
       "<table border=\"1\" class=\"dataframe\">\n",
       "  <thead>\n",
       "    <tr style=\"text-align: right;\">\n",
       "      <th></th>\n",
       "      <th>lunation</th>\n",
       "      <th>datetime</th>\n",
       "    </tr>\n",
       "  </thead>\n",
       "  <tbody>\n",
       "    <tr>\n",
       "      <th>1</th>\n",
       "      <td>Previous First Quarter</td>\n",
       "      <td>2024-10-10 10:55:04.685964-08:00</td>\n",
       "    </tr>\n",
       "    <tr>\n",
       "      <th>2</th>\n",
       "      <td>Previous Full</td>\n",
       "      <td>2024-10-17 03:26:21.318684-08:00</td>\n",
       "    </tr>\n",
       "    <tr>\n",
       "      <th>3</th>\n",
       "      <td>Previous Last Quarter</td>\n",
       "      <td>2024-10-24 00:03:01.238585-08:00</td>\n",
       "    </tr>\n",
       "    <tr>\n",
       "      <th>0</th>\n",
       "      <td>Previous New</td>\n",
       "      <td>2024-11-01 04:47:06.158991-08:00</td>\n",
       "    </tr>\n",
       "  </tbody>\n",
       "</table>\n",
       "</div>"
      ],
      "text/plain": [
       "                 lunation                         datetime\n",
       "1  Previous First Quarter 2024-10-10 10:55:04.685964-08:00\n",
       "2           Previous Full 2024-10-17 03:26:21.318684-08:00\n",
       "3   Previous Last Quarter 2024-10-24 00:03:01.238585-08:00\n",
       "0            Previous New 2024-11-01 04:47:06.158991-08:00"
      ]
     },
     "execution_count": 2,
     "metadata": {},
     "output_type": "execute_result"
    }
   ],
   "source": [
    "recent_phases()"
   ]
  },
  {
   "cell_type": "code",
   "execution_count": 3,
   "metadata": {},
   "outputs": [
    {
     "data": {
      "text/html": [
       "<div>\n",
       "<style scoped>\n",
       "    .dataframe tbody tr th:only-of-type {\n",
       "        vertical-align: middle;\n",
       "    }\n",
       "\n",
       "    .dataframe tbody tr th {\n",
       "        vertical-align: top;\n",
       "    }\n",
       "\n",
       "    .dataframe thead th {\n",
       "        text-align: right;\n",
       "    }\n",
       "</style>\n",
       "<table border=\"1\" class=\"dataframe\">\n",
       "  <thead>\n",
       "    <tr style=\"text-align: right;\">\n",
       "      <th></th>\n",
       "      <th>lunation</th>\n",
       "      <th>datetime</th>\n",
       "    </tr>\n",
       "  </thead>\n",
       "  <tbody>\n",
       "    <tr>\n",
       "      <th>1</th>\n",
       "      <td>Next First Quarter</td>\n",
       "      <td>2024-11-08 21:55:24.594909-08:00</td>\n",
       "    </tr>\n",
       "    <tr>\n",
       "      <th>2</th>\n",
       "      <td>Next Full</td>\n",
       "      <td>2024-11-15 13:28:28.524900-08:00</td>\n",
       "    </tr>\n",
       "    <tr>\n",
       "      <th>3</th>\n",
       "      <td>Next Last Quarter</td>\n",
       "      <td>2024-11-22 17:27:52.150300-08:00</td>\n",
       "    </tr>\n",
       "    <tr>\n",
       "      <th>0</th>\n",
       "      <td>Next New</td>\n",
       "      <td>2024-11-30 22:21:22.862069-08:00</td>\n",
       "    </tr>\n",
       "  </tbody>\n",
       "</table>\n",
       "</div>"
      ],
      "text/plain": [
       "             lunation                         datetime\n",
       "1  Next First Quarter 2024-11-08 21:55:24.594909-08:00\n",
       "2           Next Full 2024-11-15 13:28:28.524900-08:00\n",
       "3   Next Last Quarter 2024-11-22 17:27:52.150300-08:00\n",
       "0            Next New 2024-11-30 22:21:22.862069-08:00"
      ]
     },
     "execution_count": 3,
     "metadata": {},
     "output_type": "execute_result"
    }
   ],
   "source": [
    "upcoming_phases()"
   ]
  },
  {
   "cell_type": "code",
   "execution_count": 4,
   "metadata": {},
   "outputs": [
    {
     "data": {
      "text/plain": [
       "('First Quarter', Timestamp('2024-11-08 21:55:24.594879-0800', tz='PST'))"
      ]
     },
     "execution_count": 4,
     "metadata": {},
     "output_type": "execute_result"
    }
   ],
   "source": [
    "next_phase()"
   ]
  },
  {
   "cell_type": "code",
   "execution_count": 5,
   "metadata": {},
   "outputs": [
    {
     "data": {
      "text/plain": [
       "'Waxing Crescent'"
      ]
     },
     "execution_count": 5,
     "metadata": {},
     "output_type": "execute_result"
    }
   ],
   "source": [
    "get_phase()"
   ]
  },
  {
   "cell_type": "code",
   "execution_count": 6,
   "metadata": {},
   "outputs": [
    {
     "data": {
      "text/plain": [
       "('First Quarter', Timestamp('2024-11-08 21:55:24.594885-0800', tz='PST'))"
      ]
     },
     "execution_count": 6,
     "metadata": {},
     "output_type": "execute_result"
    }
   ],
   "source": [
    "next_phase()"
   ]
  },
  {
   "cell_type": "code",
   "execution_count": 7,
   "metadata": {},
   "outputs": [
    {
     "data": {
      "text/plain": [
       "'🌒'"
      ]
     },
     "execution_count": 7,
     "metadata": {},
     "output_type": "execute_result"
    }
   ],
   "source": [
    "get_emoji()"
   ]
  },
  {
   "cell_type": "code",
   "execution_count": 10,
   "metadata": {},
   "outputs": [],
   "source": [
    "import ephem\n",
    "from datetime import datetime, timedelta, timezone\n",
    "\n",
    "def full_moons_in_month(year: Optional[int] = None, month: Optional[int] = None, tz: Optional[timezone] = None) -> list[datetime]:\n",
    "    \"\"\"\n",
    "    Calculates the dates of all full moons occurring in a given month and year.\n",
    "    Defaults to the current month and year in the local timezone.\n",
    "\n",
    "    Args:\n",
    "        year: The year. Defaults to the current year.\n",
    "        month: The month (1-12). Defaults to the current month.\n",
    "        tz: The timezone for the output dates. If None (default), \n",
    "            it uses the local timezone.\n",
    "\n",
    "    Returns:\n",
    "        A list of datetime objects representing the full moons in the specified month.\n",
    "    \"\"\"\n",
    "\n",
    "    if year is None:\n",
    "        year = datetime.now().year\n",
    "    if month is None:\n",
    "        month = datetime.now().month\n",
    "    if tz is None:\n",
    "        tz = datetime.now(timezone.utc).astimezone().tzinfo  # Get local timezone\n",
    "\n",
    "    # Start with the first day of the month\n",
    "    dt = datetime(year, month, 1, tzinfo=tz) \n",
    "    dt = ephem.Date(dt)\n",
    "\n",
    "    full_moons = []\n",
    "\n",
    "    full_moon_date = ephem.next_full_moon(dt).datetime().replace(tzinfo=timezone.utc).astimezone(tz)\n",
    "    full_moons.append(full_moon_date)\n",
    "\n",
    "    next_full_moon_date = ephem.next_full_moon(ephem.Date(full_moon_date + timedelta(days=1))).datetime().replace(tzinfo=timezone.utc).astimezone(tz)\n",
    "    \n",
    "    if next_full_moon_date.month == month:\n",
    "        full_moons.append(next_full_moon_date)\n",
    "        \n",
    "    return full_moons"
   ]
  },
  {
   "cell_type": "code",
   "execution_count": 11,
   "metadata": {},
   "outputs": [
    {
     "data": {
      "text/plain": [
       "[datetime.datetime(2024, 11, 15, 13, 28, 28, 524903, tzinfo=datetime.timezone(datetime.timedelta(days=-1, seconds=57600), 'PST'))]"
      ]
     },
     "execution_count": 11,
     "metadata": {},
     "output_type": "execute_result"
    }
   ],
   "source": [
    "full_moons_in_month()"
   ]
  },
  {
   "cell_type": "code",
   "execution_count": null,
   "metadata": {},
   "outputs": [],
   "source": []
  }
 ],
 "metadata": {
  "kernelspec": {
   "display_name": "base",
   "language": "python",
   "name": "python3"
  },
  "language_info": {
   "codemirror_mode": {
    "name": "ipython",
    "version": 3
   },
   "file_extension": ".py",
   "mimetype": "text/x-python",
   "name": "python",
   "nbconvert_exporter": "python",
   "pygments_lexer": "ipython3",
   "version": "3.12.7"
  }
 },
 "nbformat": 4,
 "nbformat_minor": 2
}
