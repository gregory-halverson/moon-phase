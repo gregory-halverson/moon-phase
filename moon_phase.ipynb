{
 "cells": [
  {
   "cell_type": "code",
   "execution_count": null,
   "metadata": {},
   "outputs": [],
   "source": [
    "from moon_phase import *"
   ]
  },
  {
   "cell_type": "code",
   "execution_count": null,
   "metadata": {},
   "outputs": [],
   "source": [
    "recent_phases()"
   ]
  },
  {
   "cell_type": "code",
   "execution_count": null,
   "metadata": {},
   "outputs": [],
   "source": [
    "upcoming_phases()"
   ]
  },
  {
   "cell_type": "code",
   "execution_count": null,
   "metadata": {},
   "outputs": [],
   "source": [
    "next_phase()"
   ]
  },
  {
   "cell_type": "code",
   "execution_count": null,
   "metadata": {},
   "outputs": [],
   "source": [
    "get_phase()"
   ]
  },
  {
   "cell_type": "code",
   "execution_count": null,
   "metadata": {},
   "outputs": [],
   "source": [
    "next_phase()"
   ]
  },
  {
   "cell_type": "code",
   "execution_count": null,
   "metadata": {},
   "outputs": [],
   "source": [
    "get_emoji()"
   ]
  },
  {
   "cell_type": "code",
   "execution_count": null,
   "metadata": {},
   "outputs": [],
   "source": [
    "import ephem\n",
    "from datetime import datetime, timedelta, timezone\n",
    "\n",
    "def full_moons_in_month(year: Optional[int] = None, month: Optional[int] = None, tz: Optional[timezone] = None) -> list[datetime]:\n",
    "    \"\"\"\n",
    "    Calculates the dates of all full moons occurring in a given month and year.\n",
    "    Defaults to the current month and year in the local timezone.\n",
    "\n",
    "    Args:\n",
    "        year: The year. Defaults to the current year.\n",
    "        month: The month (1-12). Defaults to the current month.\n",
    "        tz: The timezone for the output dates. If None (default), \n",
    "            it uses the local timezone.\n",
    "\n",
    "    Returns:\n",
    "        A list of datetime objects representing the full moons in the specified month.\n",
    "    \"\"\"\n",
    "\n",
    "    if year is None:\n",
    "        year = datetime.now().year\n",
    "    if month is None:\n",
    "        month = datetime.now().month\n",
    "    if tz is None:\n",
    "        tz = datetime.now(timezone.utc).astimezone().tzinfo  # Get local timezone\n",
    "\n",
    "    # Start with the first day of the month\n",
    "    dt = datetime(year, month, 1, tzinfo=tz) \n",
    "    dt = ephem.Date(dt)\n",
    "\n",
    "    full_moons = []\n",
    "\n",
    "    full_moon_date = ephem.next_full_moon(dt).datetime().replace(tzinfo=timezone.utc).astimezone(tz)\n",
    "    full_moons.append(full_moon_date)\n",
    "\n",
    "    next_full_moon_date = ephem.next_full_moon(ephem.Date(full_moon_date + timedelta(days=1))).datetime().replace(tzinfo=timezone.utc).astimezone(tz)\n",
    "    \n",
    "    if next_full_moon_date.month == month:\n",
    "        full_moons.append(next_full_moon_date)\n",
    "        \n",
    "    return full_moons"
   ]
  },
  {
   "cell_type": "code",
   "execution_count": null,
   "metadata": {},
   "outputs": [],
   "source": [
    "full_moons_in_month()"
   ]
  },
  {
   "cell_type": "code",
   "execution_count": null,
   "metadata": {},
   "outputs": [],
   "source": [
    "get_moon_name()"
   ]
  }
 ],
 "metadata": {
  "kernelspec": {
   "display_name": "base",
   "language": "python",
   "name": "python3"
  },
  "language_info": {
   "codemirror_mode": {
    "name": "ipython",
    "version": 3
   },
   "file_extension": ".py",
   "mimetype": "text/x-python",
   "name": "python",
   "nbconvert_exporter": "python",
   "pygments_lexer": "ipython3",
   "version": "3.12.7"
  }
 },
 "nbformat": 4,
 "nbformat_minor": 2
}
